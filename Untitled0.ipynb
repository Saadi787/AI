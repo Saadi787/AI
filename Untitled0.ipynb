{
  "nbformat": 4,
  "nbformat_minor": 0,
  "metadata": {
    "colab": {
      "provenance": [],
      "collapsed_sections": [],
      "authorship_tag": "ABX9TyMb0dK73M9+xRGbh21eShRC",
      "include_colab_link": true
    },
    "kernelspec": {
      "name": "python3",
      "display_name": "Python 3"
    },
    "language_info": {
      "name": "python"
    }
  },
  "cells": [
    {
      "cell_type": "markdown",
      "metadata": {
        "id": "view-in-github",
        "colab_type": "text"
      },
      "source": [
        "<a href=\"https://colab.research.google.com/github/Saadi787/AI/blob/main/Untitled0.ipynb\" target=\"_parent\"><img src=\"https://colab.research.google.com/assets/colab-badge.svg\" alt=\"Open In Colab\"/></a>"
      ]
    },
    {
      "cell_type": "code",
      "execution_count": null,
      "metadata": {
        "colab": {
          "base_uri": "https://localhost:8080/"
        },
        "id": "wla455eIHl0e",
        "outputId": "4332d288-95b6-4d96-cf86-2fd1b4492fe9"
      },
      "outputs": [
        {
          "output_type": "stream",
          "name": "stdout",
          "text": [
            "enter a number3\n",
            "the given number is a odd number\n"
          ]
        }
      ],
      "source": [
        "n=input(\"enter a number\")\n",
        "if int(n)%2==0:\n",
        "    print(\"the given number is a even number\")\n",
        "else:\n",
        "    print(\"the given number is a odd number\")"
      ]
    },
    {
      "cell_type": "code",
      "source": [
        "sum =0\n",
        "s=input(\"enter and integer value...\")\n",
        "n=int(s)\n",
        "while n!=0:\n",
        "  sum=sum+n\n",
        "  s=input(\"ennter and integer value...\")\n",
        "  n=int(s)\n",
        "print(\"sum of given value is \",sum)"
      ],
      "metadata": {
        "id": "yZbcpMQXQWhz"
      },
      "execution_count": null,
      "outputs": []
    },
    {
      "cell_type": "code",
      "source": [
        "from re import I\n",
        "isPrime = Truei=2\n",
        "i =2\n",
        "n=int(input(\"enter a number \"))\n",
        "while i<n:\n",
        "  remainder=n%i\n",
        "  if remainde==0:\n",
        "    isPrime=False\n",
        "    break\n",
        "  else:\n",
        "    i=i+1\n",
        "if isPrime:\n",
        "  print(\"number is prime\")\n",
        "else:\n",
        "  print(\"number is not prime\")\n"
      ],
      "metadata": {
        "id": "MZqoCEKdQXtF"
      },
      "execution_count": null,
      "outputs": []
    },
    {
      "cell_type": "code",
      "source": [
        "summ=0\n",
        "i=0\n",
        "while i<4:\n",
        "  s=input(\"enter anumber\")\n",
        "  n=int(s)\n",
        "  o=i+1\n",
        "  summ=summm+n\n",
        "  i=i+1\n",
        "print(\"sum is\",sum)"
      ],
      "metadata": {
        "id": "IyoZw_SBRysV"
      },
      "execution_count": null,
      "outputs": []
    },
    {
      "cell_type": "code",
      "source": [
        "summation=0\n",
        "i=1\n",
        "while i<=10:\n",
        "  summation=summation+i\n",
        "  i=i+1\n",
        "print(\"sum is\",summation)"
      ],
      "metadata": {
        "id": "cBtZIzaJSKM8"
      },
      "execution_count": null,
      "outputs": []
    },
    {
      "cell_type": "code",
      "source": [
        "name = input(\"what is your name?\")\n",
        "print('hello'+name)\n",
        "job = input(\"what is your job\")\n",
        "print('your job is'+job)\n",
        "num = input(\"give me a number?\")\n",
        "print(\"your said\"+str(num))"
      ],
      "metadata": {
        "id": "3u_tF4JJSnBy"
      },
      "execution_count": null,
      "outputs": []
    },
    {
      "cell_type": "code",
      "source": [
        "MINIMUM=1\n",
        "MAXIMUM=9\n",
        "NUMBER=random.randint(MINIMUM.MAXIMUM)\n",
        "GUESS=None\n",
        "ANOTHER=None\n",
        "TRY=0\n",
        "RUNNING=True\n",
        "print(\"Alright\")\n",
        "while RUNNIGN:\n",
        "   GUESS=raw_input(\"What is your lucky number?\")\n",
        "     if int(GUESS)<NUMBER:\n",
        "     Print\"Wrong,too low.\"\n",
        "    elif int(GUESS)>NUMBER:\n",
        "      print\"Wrong,too high.\"\n",
        "     elif GUESS.Lower()==\"exit\":\n",
        "       print\"Better luck next time.\"\n",
        "     elif int(GUESS)==NUMBER:\n",
        "       Print\"yes,that's the one, %s.\" str(NUMBER)\n",
        "      if TRY <2:\n",
        "         print\"Impressive,only%s tries.\"% str(TRY)\n",
        "      elif TRY>2 and TRY < 10:\n",
        "         print\"Pretty good,%s tries.\"% str(TRY)\n",
        "      else:\n",
        "         print\"Bad,%s tries.\" % str(TRY)\n",
        "      RUNNING=False\n",
        "     TRY +=1"
      ],
      "metadata": {
        "id": "H_nyMufUTOSy"
      },
      "execution_count": null,
      "outputs": []
    },
    {
      "cell_type": "code",
      "source": [
        "number = 7890\n",
        "reversed_number = 0\n",
        "\n",
        "while number != 0:\n",
        "    digit = number % 10\n",
        "    reversed_number = reversed_number * 10 + digit\n",
        "    number //= 10\n",
        "\n",
        "print(\"Reversed Number: \" + str(reversed_number))\n"
      ],
      "metadata": {
        "colab": {
          "base_uri": "https://localhost:8080/"
        },
        "id": "QtFRLiuKUwnj",
        "outputId": "090f8754-ac06-4cf2-e02e-13febfc15a35"
      },
      "execution_count": 10,
      "outputs": [
        {
          "output_type": "stream",
          "name": "stdout",
          "text": [
            "Reversed Number: 987\n"
          ]
        }
      ]
    },
    {
      "cell_type": "code",
      "source": [
        "\n",
        "\n",
        "nterms = int(input(\"How many terms? \"))\n",
        "\n",
        "\n",
        "n1, n2 = 0, 1\n",
        "count = 0\n",
        "\n",
        "\n",
        "if nterms <= 0:\n",
        "   print(\"Please enter a positive integer\")\n",
        "\n",
        "elif nterms == 1:\n",
        "   print(\"Fibonacci sequence upto\",nterms,\":\")\n",
        "   print(n1)\n",
        "\n",
        "else:\n",
        "   print(\"Fibonacci sequence:\")\n",
        "   while count < nterms:\n",
        "       print(n1)\n",
        "       nth = n1 + n2\n",
        "      \n",
        "       n1 = n2\n",
        "       n2 = nth\n",
        "       count += 1\n"
      ],
      "metadata": {
        "id": "OMe5v2DlXyeT"
      },
      "execution_count": null,
      "outputs": []
    },
    {
      "cell_type": "code",
      "source": [
        "print(\"Enter Marks : \")\n",
        "markOne = int(input())\n",
        "\n",
        "\n",
        "if markOne >=91 and markOne <=100:\n",
        "    print(\"Grade A if marks are between 91 to 100\")\n",
        "elif markOne >=81 and markOne <=90:\n",
        "    print(\"Grade B if marks are between 81 to 90\")\n",
        "elif markOne >=71 and markOne <=81:\n",
        "    print(\"Grade c if marks are between 71 to 80\")\n",
        "elif markOne >=61 and markOne <=70:\n",
        "    print(\"Grade D if marks are between 61 to 70\")\n",
        "elif markOne >=51 and markOne <= 60:\n",
        "    print(\"Grade E if marks are between 50 to 60\")\n",
        "elif markOne >=1 and markOne <= 50:\n",
        "    print(\"Grade F if marks are less than 50\")\n",
        "\n",
        "else:\n",
        "    print(\"Invalid Input!\")"
      ],
      "metadata": {
        "colab": {
          "base_uri": "https://localhost:8080/"
        },
        "id": "ZVZDgmi4ZcwL",
        "outputId": "b4cac92e-4abb-4d16-8064-fb92d97212b8"
      },
      "execution_count": 18,
      "outputs": [
        {
          "output_type": "stream",
          "name": "stdout",
          "text": [
            "Enter Marks : \n",
            "77\n",
            "Grade c if marks are between 71 to 80\n"
          ]
        }
      ]
    },
    {
      "cell_type": "code",
      "source": [
        "num = int(input(\"Enter a number: \"))    \n",
        "factorial = 1    \n",
        "if num < 0:    \n",
        "   print(\" Factorial does not exist for negative numbers\")    \n",
        "elif num == 0:    \n",
        "   print(\"The factorial of 0 is 1\")    \n",
        "else:    \n",
        "   for i in range(1,num + 1):    \n",
        "       factorial = factorial*i    \n",
        "   print(\"The factorial of\",num,\"is\",factorial)    "
      ],
      "metadata": {
        "colab": {
          "base_uri": "https://localhost:8080/"
        },
        "id": "O8M0qeRDceqk",
        "outputId": "1d9ad61c-a998-4074-ace4-adbc9b2fc84c"
      },
      "execution_count": 19,
      "outputs": [
        {
          "output_type": "stream",
          "name": "stdout",
          "text": [
            "Enter a number: 4\n",
            "The factorial of 4 is 24\n"
          ]
        }
      ]
    }
  ]
}